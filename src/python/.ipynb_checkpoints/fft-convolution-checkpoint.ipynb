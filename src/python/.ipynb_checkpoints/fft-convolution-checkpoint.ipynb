{
 "cells": [
  {
   "cell_type": "markdown",
   "metadata": {},
   "source": [
    "# Frequency domain convolution (using fft)"
   ]
  },
  {
   "cell_type": "code",
   "execution_count": 33,
   "metadata": {},
   "outputs": [],
   "source": [
    "import sys\n",
    "import numpy as np\n",
    "from scipy import signal \n",
    "from scipy import linalg "
   ]
  },
  {
   "cell_type": "markdown",
   "metadata": {},
   "source": [
    "## 1D convolution (frequency domain)"
   ]
  },
  {
   "cell_type": "code",
   "execution_count": 34,
   "metadata": {},
   "outputs": [
    {
     "name": "stdout",
     "output_type": "stream",
     "text": [
      "Zero-padded x(n): \n",
      "[ 1  2  3 -2  5  6  0  0  0]\n",
      "Zero padded h(n): \n",
      "[ 2 -1  1  4  0  0  0  0  0]\n",
      "Convolution of x(n) and h(n): \n",
      "y(n) = \n",
      "[ 2.  3.  5. -1. 23. 17. -9. 26. 24.]\n"
     ]
    }
   ],
   "source": [
    "x = [1, 2, 3, -2, 5, 6]\n",
    "x = np.array(x)\n",
    "h = [2, -1, 1, 4]\n",
    "h = np.array(h)\n",
    "\n",
    "n1 = len(x)\n",
    "n2 = len(h)\n",
    "N = n1 + n2 - 1\n",
    "\n",
    "zpx = np.append(x, [0]*(N-n1))\n",
    "print(\"Zero-padded x(n): \")\n",
    "print(zpx)\n",
    "\n",
    "zph = np.append(h, [0]*(N-n2))\n",
    "print(\"Zero padded h(n): \")\n",
    "print(zph)\n",
    "\n",
    "X = np.fft.fft(zpx)\n",
    "H = np.fft.fft(zph)\n",
    "\n",
    "y = np.fft.ifft(X * H).real\n",
    "\n",
    "print(\"Convolution of x(n) and h(n): \")\n",
    "print(\"y(n) = \")\n",
    "print(y)"
   ]
  },
  {
   "cell_type": "code",
   "execution_count": 35,
   "metadata": {},
   "outputs": [
    {
     "name": "stdout",
     "output_type": "stream",
     "text": [
      "Scipy convolve function: \n",
      "[ 2  3  5 -1 23 17 -9 26 24]\n"
     ]
    }
   ],
   "source": [
    "print('Scipy convolve function: ')    # señal para comparar resultados\n",
    "print(signal.convolve(x, h))"
   ]
  },
  {
   "cell_type": "markdown",
   "metadata": {},
   "source": [
    "## 2D convolution (frequency domain)"
   ]
  },
  {
   "cell_type": "code",
   "execution_count": 36,
   "metadata": {},
   "outputs": [],
   "source": [
    "x = [[1, 0, 0, 0], [0, -1, 0, 0], [0, 0, 3, 0], [0, 0, 0, 1]]\n",
    "x = np.array(x)\n",
    "\n",
    "h = [[4, 5], [3, 4]]\n",
    "h = np.array(h)"
   ]
  },
  {
   "cell_type": "code",
   "execution_count": 37,
   "metadata": {},
   "outputs": [
    {
     "name": "stdout",
     "output_type": "stream",
     "text": [
      "input x: \n",
      "[[ 1  0  0  0]\n",
      " [ 0 -1  0  0]\n",
      " [ 0  0  3  0]\n",
      " [ 0  0  0  1]]\n",
      "kernel h: \n",
      "[[4 5]\n",
      " [3 4]]\n"
     ]
    }
   ],
   "source": [
    "print('input x: ')\n",
    "print(x)\n",
    "\n",
    "print('kernel h: ')\n",
    "print(h)"
   ]
  },
  {
   "cell_type": "code",
   "execution_count": 38,
   "metadata": {},
   "outputs": [
    {
     "name": "stdout",
     "output_type": "stream",
     "text": [
      "conv: \n",
      "[[ 4  5  0  0  0]\n",
      " [ 3  0 -5  0  0]\n",
      " [ 0 -3  8 15  0]\n",
      " [ 0  0  9 16  5]\n",
      " [ 0  0  0  3  4]] full\n"
     ]
    }
   ],
   "source": [
    "print('conv: ')\n",
    "print(signal.convolve2d(x, h), 'full')"
   ]
  },
  {
   "cell_type": "code",
   "execution_count": 39,
   "metadata": {},
   "outputs": [
    {
     "data": {
      "text/plain": [
       "(slice(0, 5, None), slice(0, 5, None))"
      ]
     },
     "execution_count": 39,
     "metadata": {},
     "output_type": "execute_result"
    }
   ],
   "source": [
    "s1 = np.array(x.shape)\n",
    "s2 = np.array(h.shape)\n",
    "\n",
    "size = s1 + s2 - 1\n",
    "\n",
    "fsize = 2 ** np.ceil(np.log2(size)).astype(int)\n",
    "fslice = tuple([slice(0, int(sz)) for sz in size])\n",
    "\n",
    "fslice"
   ]
  },
  {
   "cell_type": "code",
   "execution_count": 40,
   "metadata": {
    "scrolled": true
   },
   "outputs": [
    {
     "name": "stdout",
     "output_type": "stream",
     "text": [
      "[[ 4.00000000e+00+0.00000000e+00j  5.00000000e+00+1.33805644e-17j\n",
      "   0.00000000e+00+0.00000000e+00j  6.66133815e-16+2.04873146e-17j\n",
      "   0.00000000e+00+0.00000000e+00j]\n",
      " [ 3.00000000e+00+1.52198045e-17j  2.12520397e-16+4.06470994e-18j\n",
      "  -5.00000000e+00+1.57218686e-18j -3.14018492e-16-7.70793580e-17j\n",
      "   4.44089210e-16+0.00000000e+00j]\n",
      " [ 4.44089210e-16+0.00000000e+00j -3.00000000e+00-6.91250830e-18j\n",
      "   8.00000000e+00+0.00000000e+00j  1.50000000e+01-2.01557290e-16j\n",
      "   0.00000000e+00+0.00000000e+00j]\n",
      " [ 4.44089210e-16+0.00000000e+00j -1.01498095e-16+4.06470994e-18j\n",
      "   9.00000000e+00-1.87208859e-17j  1.60000000e+01-5.48463803e-16j\n",
      "   5.00000000e+00-2.53663409e-17j]\n",
      " [ 2.22044605e-16+0.00000000e+00j  0.00000000e+00+1.33805644e-17j\n",
      "   0.00000000e+00+0.00000000e+00j  3.00000000e+00+2.04873146e-17j\n",
      "   4.00000000e+00+0.00000000e+00j]]\n"
     ]
    }
   ],
   "source": [
    "new_x = np.fft.fft2(x, fsize)\n",
    "new_h = np.fft.fft2(h, fsize)\n",
    "result = np.fft.ifft2(new_x*new_h)[fslice].copy()\n",
    "\n",
    "print(result)"
   ]
  },
  {
   "cell_type": "code",
   "execution_count": 41,
   "metadata": {},
   "outputs": [
    {
     "name": "stdout",
     "output_type": "stream",
     "text": [
      "fft for my method: \n",
      "[[ 4  5  0  0  0]\n",
      " [ 2  0 -5  0  0]\n",
      " [ 0 -3  8 15  0]\n",
      " [ 0  0  9 16  5]\n",
      " [ 0  0  0  2  4]]\n"
     ]
    }
   ],
   "source": [
    "print('fft for my method: ')\n",
    "print(np.array(result.real, np.int32))"
   ]
  },
  {
   "cell_type": "code",
   "execution_count": 42,
   "metadata": {},
   "outputs": [
    {
     "name": "stdout",
     "output_type": "stream",
     "text": [
      "fft convolution: \n",
      "[[ 4  5  0  0  0]\n",
      " [ 3  0 -4  0  0]\n",
      " [ 0 -2  8 15  0]\n",
      " [ 0  0  9 15  4]\n",
      " [ 0  0  0  3  4]]\n"
     ]
    }
   ],
   "source": [
    "print('fft convolution: ')\n",
    "print(np.array(signal.fftconvolve(x, h), np.int32))"
   ]
  },
  {
   "cell_type": "code",
   "execution_count": null,
   "metadata": {},
   "outputs": [],
   "source": []
  }
 ],
 "metadata": {
  "kernelspec": {
   "display_name": "Python 3",
   "language": "python",
   "name": "python3"
  },
  "language_info": {
   "codemirror_mode": {
    "name": "ipython",
    "version": 3
   },
   "file_extension": ".py",
   "mimetype": "text/x-python",
   "name": "python",
   "nbconvert_exporter": "python",
   "pygments_lexer": "ipython3",
   "version": "3.7.2"
  }
 },
 "nbformat": 4,
 "nbformat_minor": 2
}
